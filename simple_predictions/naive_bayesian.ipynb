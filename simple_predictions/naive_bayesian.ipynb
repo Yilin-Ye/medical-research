{
 "cells": [
  {
   "cell_type": "code",
   "execution_count": 1,
   "metadata": {},
   "outputs": [],
   "source": [
    "from sklearn import metrics\n",
    "from sklearn import tree\n",
    "from sklearn.linear_model import LogisticRegression\n",
    "from sklearn.naive_bayes import GaussianNB\n",
    "from sklearn import svm\n",
    "\n",
    "from sklearn.ensemble import RandomForestClassifier\n",
    "from sklearn.model_selection import train_test_split\n",
    "from sklearn.model_selection import LeaveOneOut\n",
    "from sklearn import model_selection\n",
    "from sklearn.metrics import accuracy_score\n",
    "from sklearn.metrics import f1_score\n",
    "from sklearn.metrics import precision_score\n",
    "from sklearn.metrics import recall_score\n",
    "from sklearn import preprocessing\n",
    "\n",
    "import pandas as pd\n",
    "import warnings\n",
    "import numpy as np\n",
    "    "
   ]
  },
  {
   "cell_type": "code",
   "execution_count": 2,
   "metadata": {},
   "outputs": [],
   "source": [
    "import os\n",
    "os.chdir('C://Users//YE/Desktop/')"
   ]
  },
  {
   "cell_type": "code",
   "execution_count": 4,
   "metadata": {},
   "outputs": [],
   "source": [
    "combined_clinical=pd.read_csv(\"combined_clinical.csv\")"
   ]
  },
  {
   "cell_type": "markdown",
   "metadata": {},
   "source": [
    "# Patient"
   ]
  },
  {
   "cell_type": "code",
   "execution_count": 5,
   "metadata": {},
   "outputs": [
    {
     "name": "stdout",
     "output_type": "stream",
     "text": [
      "Naive bayesian accuracy: 0.45375\n",
      "Loocv accuracy: 0.5\n"
     ]
    }
   ],
   "source": [
    "X = combined_clinical.iloc[:, 2:7].values\n",
    "y = combined_clinical.iloc[:, 1].values\n",
    "\n",
    "naive_bayesian_accuracy=[]\n",
    "loo_accuracy=[]\n",
    "\n",
    "i=1\n",
    "\n",
    "while i<101:\n",
    "    X_train, X_test, y_train, y_test = train_test_split(X,y,test_size = 0.3,random_state= i)\n",
    "    model = GaussianNB()\n",
    "    model.fit(X_train, y_train)\n",
    "    y_pred = model.predict(X_test)\n",
    "    naive_bayesian_accuracy.append(metrics.accuracy_score(y_test, y_pred))\n",
    "  \n",
    "    loo = LeaveOneOut()\n",
    "    loo.get_n_splits(X)\n",
    "    y_true = []\n",
    "    y_est = []\n",
    "    for train_index, test_index in loo.split(X):\n",
    "        X_train, X_test = X[train_index], X[test_index]\n",
    "        y_train, y_test = y[train_index], y[test_index]\n",
    "\n",
    "        model.fit(X_train, y_train)\n",
    "        y_est_1 = model.predict(X_test)\n",
    "        y_true.append(y_test[0])\n",
    "        y_est.append(y_est_1[0])\n",
    "    accuracy = accuracy_score(y_true, y_est)\n",
    "\n",
    "    loo_accuracy.append((accuracy.mean()*100.0))\n",
    "    i += 1\n",
    "    \n",
    "print(\"Naive bayesian accuracy: \"+str(sum(naive_bayesian_accuracy)/100))\n",
    "print(\"Loocv accuracy: \"+str(sum(loo_accuracy)/10000))"
   ]
  },
  {
   "cell_type": "markdown",
   "metadata": {},
   "source": [
    "# Clinical"
   ]
  },
  {
   "cell_type": "code",
   "execution_count": 6,
   "metadata": {},
   "outputs": [
    {
     "name": "stdout",
     "output_type": "stream",
     "text": [
      "Naive bayesian accuracy: 0.71875\n",
      "Loocv accuracy: 0.7916666666666677\n"
     ]
    }
   ],
   "source": [
    "X = combined_clinical.iloc[:, 7:].values\n",
    "y = combined_clinical.iloc[:, 1].values\n",
    "\n",
    "naive_bayesian_accuracy=[]\n",
    "loo_accuracy=[]\n",
    "\n",
    "i=1\n",
    "\n",
    "while i<101:\n",
    "    X_train, X_test, y_train, y_test = train_test_split(X,y,test_size = 0.3,random_state= i)\n",
    "    model = GaussianNB()\n",
    "    model.fit(X_train, y_train)\n",
    "    y_pred = model.predict(X_test)\n",
    "    naive_bayesian_accuracy.append(metrics.accuracy_score(y_test, y_pred))\n",
    "  \n",
    "    loo = LeaveOneOut()\n",
    "    loo.get_n_splits(X)\n",
    "    y_true = []\n",
    "    y_est = []\n",
    "    for train_index, test_index in loo.split(X):\n",
    "        X_train, X_test = X[train_index], X[test_index]\n",
    "        y_train, y_test = y[train_index], y[test_index]\n",
    "\n",
    "        model.fit(X_train, y_train)\n",
    "        y_est_1 = model.predict(X_test)\n",
    "        y_true.append(y_test[0])\n",
    "        y_est.append(y_est_1[0])\n",
    "    accuracy = accuracy_score(y_true, y_est)\n",
    "\n",
    "    loo_accuracy.append((accuracy.mean()*100.0))\n",
    "    i += 1\n",
    "    \n",
    "print(\"Naive bayesian accuracy: \"+str(sum(naive_bayesian_accuracy)/100))\n",
    "print(\"Loocv accuracy: \"+str(sum(loo_accuracy)/10000))"
   ]
  },
  {
   "cell_type": "markdown",
   "metadata": {},
   "source": [
    "# Combined"
   ]
  },
  {
   "cell_type": "code",
   "execution_count": 8,
   "metadata": {},
   "outputs": [
    {
     "name": "stdout",
     "output_type": "stream",
     "text": [
      "Naive bayesian accuracy: 0.71875\n",
      "Loocv accuracy: 0.7916666666666677\n"
     ]
    }
   ],
   "source": [
    "X = combined_clinical.iloc[:, 2:].values\n",
    "y = combined_clinical.iloc[:, 1].values\n",
    "\n",
    "naive_bayesian_accuracy=[]\n",
    "loo_accuracy=[]\n",
    "\n",
    "i=1\n",
    "\n",
    "while i<101:\n",
    "    X_train, X_test, y_train, y_test = train_test_split(X,y,test_size = 0.3,random_state= i)\n",
    "    model = GaussianNB()\n",
    "    model.fit(X_train, y_train)\n",
    "    y_pred = model.predict(X_test)\n",
    "    naive_bayesian_accuracy.append(metrics.accuracy_score(y_test, y_pred))\n",
    "  \n",
    "    loo = LeaveOneOut()\n",
    "    loo.get_n_splits(X)\n",
    "    y_true = []\n",
    "    y_est = []\n",
    "    for train_index, test_index in loo.split(X):\n",
    "        X_train, X_test = X[train_index], X[test_index]\n",
    "        y_train, y_test = y[train_index], y[test_index]\n",
    "\n",
    "        model.fit(X_train, y_train)\n",
    "        y_est_1 = model.predict(X_test)\n",
    "        y_true.append(y_test[0])\n",
    "        y_est.append(y_est_1[0])\n",
    "    accuracy = accuracy_score(y_true, y_est)\n",
    "\n",
    "    loo_accuracy.append((accuracy.mean()*100.0))\n",
    "    i += 1\n",
    "    \n",
    "print(\"Naive bayesian accuracy: \"+str(sum(naive_bayesian_accuracy)/100))\n",
    "print(\"Loocv accuracy: \"+str(sum(loo_accuracy)/10000))"
   ]
  },
  {
   "cell_type": "markdown",
   "metadata": {},
   "source": [
    "# Demograph"
   ]
  },
  {
   "cell_type": "code",
   "execution_count": 9,
   "metadata": {},
   "outputs": [
    {
     "name": "stdout",
     "output_type": "stream",
     "text": [
      "Naive bayesian accuracy: 0.5575\n",
      "Loocv accuracy: 0.625\n"
     ]
    }
   ],
   "source": [
    "X = combined_clinical.iloc[:, 7:26].values\n",
    "y = combined_clinical.iloc[:, 1].values\n",
    "\n",
    "naive_bayesian_accuracy=[]\n",
    "loo_accuracy=[]\n",
    "\n",
    "i=1\n",
    "\n",
    "while i<101:\n",
    "    X_train, X_test, y_train, y_test = train_test_split(X,y,test_size = 0.3,random_state= i)\n",
    "    model = GaussianNB()\n",
    "    model.fit(X_train, y_train)\n",
    "    y_pred = model.predict(X_test)\n",
    "    naive_bayesian_accuracy.append(metrics.accuracy_score(y_test, y_pred))\n",
    "  \n",
    "    loo = LeaveOneOut()\n",
    "    loo.get_n_splits(X)\n",
    "    y_true = []\n",
    "    y_est = []\n",
    "    for train_index, test_index in loo.split(X):\n",
    "        X_train, X_test = X[train_index], X[test_index]\n",
    "        y_train, y_test = y[train_index], y[test_index]\n",
    "\n",
    "        model.fit(X_train, y_train)\n",
    "        y_est_1 = model.predict(X_test)\n",
    "        y_true.append(y_test[0])\n",
    "        y_est.append(y_est_1[0])\n",
    "    accuracy = accuracy_score(y_true, y_est)\n",
    "\n",
    "    loo_accuracy.append((accuracy.mean()*100.0))\n",
    "    i += 1\n",
    "    \n",
    "print(\"Naive bayesian accuracy: \"+str(sum(naive_bayesian_accuracy)/100))\n",
    "print(\"Loocv accuracy: \"+str(sum(loo_accuracy)/10000))"
   ]
  },
  {
   "cell_type": "markdown",
   "metadata": {},
   "source": [
    "# Endoscope"
   ]
  },
  {
   "cell_type": "code",
   "execution_count": 10,
   "metadata": {},
   "outputs": [
    {
     "name": "stdout",
     "output_type": "stream",
     "text": [
      "Naive bayesian accuracy: 0.7975\n",
      "Loocv accuracy: 0.7916666666666677\n"
     ]
    }
   ],
   "source": [
    "X = combined_clinical.iloc[:, 26:].values\n",
    "y = combined_clinical.iloc[:, 1].values\n",
    "\n",
    "naive_bayesian_accuracy=[]\n",
    "loo_accuracy=[]\n",
    "\n",
    "i=1\n",
    "\n",
    "while i<101:\n",
    "    X_train, X_test, y_train, y_test = train_test_split(X,y,test_size = 0.3,random_state= i)\n",
    "    model = GaussianNB()\n",
    "    model.fit(X_train, y_train)\n",
    "    y_pred = model.predict(X_test)\n",
    "    naive_bayesian_accuracy.append(metrics.accuracy_score(y_test, y_pred))\n",
    "  \n",
    "    loo = LeaveOneOut()\n",
    "    loo.get_n_splits(X)\n",
    "    y_true = []\n",
    "    y_est = []\n",
    "    for train_index, test_index in loo.split(X):\n",
    "        X_train, X_test = X[train_index], X[test_index]\n",
    "        y_train, y_test = y[train_index], y[test_index]\n",
    "\n",
    "        model.fit(X_train, y_train)\n",
    "        y_est_1 = model.predict(X_test)\n",
    "        y_true.append(y_test[0])\n",
    "        y_est.append(y_est_1[0])\n",
    "    accuracy = accuracy_score(y_true, y_est)\n",
    "\n",
    "    loo_accuracy.append((accuracy.mean()*100.0))\n",
    "    i += 1\n",
    "    \n",
    "print(\"Naive bayesian accuracy: \"+str(sum(naive_bayesian_accuracy)/100))\n",
    "print(\"Loocv accuracy: \"+str(sum(loo_accuracy)/10000))"
   ]
  }
 ],
 "metadata": {
  "kernelspec": {
   "display_name": "Python 3",
   "language": "python",
   "name": "python3"
  },
  "language_info": {
   "codemirror_mode": {
    "name": "ipython",
    "version": 3
   },
   "file_extension": ".py",
   "mimetype": "text/x-python",
   "name": "python",
   "nbconvert_exporter": "python",
   "pygments_lexer": "ipython3",
   "version": "3.7.3"
  }
 },
 "nbformat": 4,
 "nbformat_minor": 2
}
